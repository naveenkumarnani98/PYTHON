{
 "cells": [
  {
   "cell_type": "markdown",
   "metadata": {},
   "source": [
    "# files concept"
   ]
  },
  {
   "cell_type": "markdown",
   "metadata": {},
   "source": [
    "## print multiple lines"
   ]
  },
  {
   "cell_type": "code",
   "execution_count": 60,
   "metadata": {},
   "outputs": [],
   "source": [
    "filepath=\"./files/sample.txt\"\n",
    "with open(filepath,'w') as f:\n",
    "    f.write(\"this is my first line\\n\")\n",
    "    f.write(\"this is my second line\\n\")\n",
    "    f.write(\"this is my third line\")\n",
    "    \n",
    "    "
   ]
  },
  {
   "cell_type": "code",
   "execution_count": 29,
   "metadata": {},
   "outputs": [
    {
     "name": "stdout",
     "output_type": "stream",
     "text": [
      "this is my first line\n",
      "\n"
     ]
    }
   ],
   "source": [
    "filepath=\"./files/sample.txt\"\n",
    "with open(filepath,'r') as f:\n",
    "        print(f.readline())"
   ]
  },
  {
   "cell_type": "code",
   "execution_count": 59,
   "metadata": {},
   "outputs": [],
   "source": [
    "filepath=\"./files/sample.txt\"\n",
    "with open(filepath,'a+') as f:\n",
    "    f.write(\"iam innocent\")"
   ]
  },
  {
   "cell_type": "code",
   "execution_count": 58,
   "metadata": {},
   "outputs": [
    {
     "name": "stdout",
     "output_type": "stream",
     "text": [
      "1 10 2\n",
      "5\n"
     ]
    }
   ],
   "source": [
    "n=input()\n",
    "n=n.split()\n",
    "lb=int(n[0])\n",
    "ub=int(n[1])\n",
    "d=int(n[2])\n",
    "c=0\n",
    "for i in range(lb,ub+1):\n",
    "    if i%d==0:\n",
    "        c=c+1\n",
    "print(c)"
   ]
  },
  {
   "cell_type": "code",
   "execution_count": null,
   "metadata": {},
   "outputs": [],
   "source": []
  }
 ],
 "metadata": {
  "kernelspec": {
   "display_name": "Python 3",
   "language": "python",
   "name": "python3"
  },
  "language_info": {
   "codemirror_mode": {
    "name": "ipython",
    "version": 3
   },
   "file_extension": ".py",
   "mimetype": "text/x-python",
   "name": "python",
   "nbconvert_exporter": "python",
   "pygments_lexer": "ipython3",
   "version": "3.7.3"
  }
 },
 "nbformat": 4,
 "nbformat_minor": 2
}
